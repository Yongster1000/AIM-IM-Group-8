{
 "cells": [
  {
   "cell_type": "code",
   "execution_count": 1,
   "metadata": {},
   "outputs": [],
   "source": [
    "import pandas as pd\n",
    "import numpy as np\n",
    "from sklearn.linear_model import LogisticRegression\n",
    "from sklearn.metrics import accuracy_score, precision_score, recall_score, f1_score, roc_auc_score, confusion_matrix\n",
    "import seaborn as sns\n",
    "import matplotlib.pyplot as plt\n",
    "from tensorflow.keras import models, layers\n",
    "from tensorflow.keras.utils import to_categorical"
   ]
  },
  {
   "cell_type": "code",
   "execution_count": 2,
   "metadata": {},
   "outputs": [],
   "source": [
    "#Load Data for standard and MinMax\n",
    "train_standard_df = pd.read_csv('./train_standard.csv')\n",
    "test_standard_df = pd.read_csv('./test_standard.csv')\n",
    "train_minmax_df = pd.read_csv('./train_minmax.csv')\n",
    "test_minmax_df = pd.read_csv('./test_minmax.csv')"
   ]
  },
  {
   "cell_type": "code",
   "execution_count": 3,
   "metadata": {},
   "outputs": [],
   "source": [
    "# Separate features and target for both standard and minmax datasets\n",
    "X_train_standard = train_standard_df.drop(columns=['target'])\n",
    "y_train_standard = train_standard_df['target']\n",
    "X_test_standard = test_standard_df.drop(columns=['target'])\n",
    "y_test_standard = test_standard_df['target']\n",
    "\n",
    "X_train_minmax = train_minmax_df.drop(columns=['target'])\n",
    "y_train_minmax = train_minmax_df['target']\n",
    "X_test_minmax = test_minmax_df.drop(columns=['target'])\n",
    "y_test_minmax = test_minmax_df['target']"
   ]
  },
  {
   "cell_type": "code",
   "execution_count": 4,
   "metadata": {},
   "outputs": [],
   "source": [
    "# Helper function to evaluate and print model metrics including confusion matrix\n",
    "def evaluate_model(y_true, y_pred, y_proba=None):\n",
    "    print(\"Accuracy:\", accuracy_score(y_true, y_pred))\n",
    "    print(\"Precision:\", precision_score(y_true, y_pred))\n",
    "    print(\"Recall:\", recall_score(y_true, y_pred))\n",
    "    print(\"F1 Score:\", f1_score(y_true, y_pred))\n",
    "    if y_proba is not None:\n",
    "        print(\"ROC AUC Score:\", roc_auc_score(y_true, y_proba))\n",
    "    \n",
    "    # Confusion Matrix\n",
    "    cm = confusion_matrix(y_true, y_pred)\n",
    "    sns.heatmap(cm, annot=True, fmt='d', cmap='Blues', cbar=False)\n",
    "    plt.xlabel('Predicted Labels')\n",
    "    plt.ylabel('True Labels')\n",
    "    plt.title('Confusion Matrix')\n",
    "    plt.show()\n"
   ]
  },
  {
   "cell_type": "code",
   "execution_count": 5,
   "metadata": {},
   "outputs": [],
   "source": [
    "# Logistic Regression Model\n",
    "def logistic_regression_model(X_train, y_train, X_test, y_test):\n",
    "    model = LogisticRegression()\n",
    "    model.fit(X_train, y_train)\n",
    "    y_pred = model.predict(X_test)\n",
    "    y_proba = model.predict_proba(X_test)[:, 1]  # For ROC AUC Score\n",
    "    print(\"Logistic Regression Metrics:\")\n",
    "    evaluate_model(y_test, y_pred, y_proba)\n"
   ]
  },
  {
   "cell_type": "code",
   "execution_count": 6,
   "metadata": {},
   "outputs": [],
   "source": [
    "# Feedforward Neural Network Model\n",
    "def fnn_model(X_train, y_train, X_test, y_test, input_dim):\n",
    "    # One-hot encoding for binary classification (if target is binary 0/1)\n",
    "    y_train_cat = to_categorical(y_train, num_classes=2)\n",
    "    y_test_cat = to_categorical(y_test, num_classes=2)\n",
    "    \n",
    "    # Define the model\n",
    "    model = models.Sequential([\n",
    "        layers.Input(shape=(input_dim,)),\n",
    "        layers.Dense(64, activation='relu'),\n",
    "        layers.Dense(32, activation='relu'),\n",
    "        layers.Dense(2, activation='softmax')  # Output layer for binary classification\n",
    "    ])\n",
    "\n",
    "    model.compile(optimizer='adam', loss='binary_crossentropy', metrics=['accuracy'])\n",
    "    \n",
    "    # Train the model\n",
    "    model.fit(X_train, y_train_cat, epochs=10, batch_size=32, verbose=0, validation_split=0.1)\n",
    "    \n",
    "    # Predictions and Evaluation\n",
    "    y_pred = np.argmax(model.predict(X_test), axis=1)\n",
    "    y_proba = model.predict(X_test)[:, 1]  # Probability of positive class\n",
    "    print(\"Feedforward Neural Network Metrics:\")\n",
    "    evaluate_model(y_test, y_pred, y_proba)"
   ]
  },
  {
   "cell_type": "code",
   "execution_count": 7,
   "metadata": {},
   "outputs": [
    {
     "name": "stdout",
     "output_type": "stream",
     "text": [
      "Standard Scaled Data:\n",
      "Logistic Regression Metrics:\n",
      "Accuracy: 0.9251012145748988\n",
      "Precision: 0.75\n",
      "Recall: 0.20930232558139536\n",
      "F1 Score: 0.32727272727272727\n",
      "ROC AUC Score: 0.8201412880936421\n"
     ]
    },
    {
     "data": {
      "image/png": "[encoded data removed]",
      "text/plain": [
       "<Figure size 432x288 with 1 Axes>"
      ]
     },
     "metadata": {
      "needs_background": "light"
     },
     "output_type": "display_data"
    },
    {
     "name": "stderr",
     "output_type": "stream",
     "text": [
      "2024-11-06 16:26:09.775375: I metal_plugin/src/device/metal_device.cc:1154] Metal device set to: Apple M1\n",
      "2024-11-06 16:26:09.775424: I metal_plugin/src/device/metal_device.cc:296] systemMemory: 16.00 GB\n",
      "2024-11-06 16:26:09.775442: I metal_plugin/src/device/metal_device.cc:313] maxCacheSize: 5.33 GB\n",
      "2024-11-06 16:26:09.775502: I tensorflow/core/common_runtime/pluggable_device/pluggable_device_factory.cc:305] Could not identify NUMA node of platform GPU ID 0, defaulting to 0. Your kernel may not have been built with NUMA support.\n",
      "2024-11-06 16:26:09.775526: I tensorflow/core/common_runtime/pluggable_device/pluggable_device_factory.cc:271] Created TensorFlow device (/job:localhost/replica:0/task:0/device:GPU:0 with 0 MB memory) -> physical PluggableDevice (device: 0, name: METAL, pci bus id: <undefined>)\n",
      "2024-11-06 16:26:12.133231: I tensorflow/core/grappler/optimizers/custom_graph_optimizer_registry.cc:117] Plugin optimizer for device_type GPU is enabled.\n"
     ]
    },
    {
     "name": "stdout",
     "output_type": "stream",
     "text": [
      "\u001b[1m16/16\u001b[0m \u001b[32m━━━━━━━━━━━━━━━━━━━━\u001b[0m\u001b[37m\u001b[0m \u001b[1m1s\u001b[0m 53ms/step\n",
      "\u001b[1m16/16\u001b[0m \u001b[32m━━━━━━━━━━━━━━━━━━━━\u001b[0m\u001b[37m\u001b[0m \u001b[1m0s\u001b[0m 2ms/step \n",
      "Feedforward Neural Network Metrics:\n",
      "Accuracy: 0.9129554655870445\n",
      "Precision: 0.5\n",
      "Recall: 0.20930232558139536\n",
      "F1 Score: 0.29508196721311475\n",
      "ROC AUC Score: 0.8210178930541948\n"
     ]
    },
    {
     "data": {
      "image/png": "[encoded data removed]",
      "text/plain": [
       "<Figure size 432x288 with 1 Axes>"
      ]
     },
     "metadata": {
      "needs_background": "light"
     },
     "output_type": "display_data"
    }
   ],
   "source": [
    "# Running models on Standard Scaled data\n",
    "print(\"Standard Scaled Data:\")\n",
    "logistic_regression_model(X_train_standard, y_train_standard, X_test_standard, y_test_standard)\n",
    "fnn_model(X_train_standard, y_train_standard, X_test_standard, y_test_standard, input_dim=X_train_standard.shape[1])\n"
   ]
  },
  {
   "cell_type": "code",
   "execution_count": 9,
   "metadata": {},
   "outputs": [
    {
     "name": "stdout",
     "output_type": "stream",
     "text": [
      "\n",
      "MinMax Scaled Data:\n",
      "Logistic Regression Metrics:\n",
      "Accuracy: 0.917004048582996\n",
      "Precision: 0.5714285714285714\n",
      "Recall: 0.18604651162790697\n",
      "F1 Score: 0.2807017543859649\n",
      "ROC AUC Score: 0.8349920074253596\n"
     ]
    },
    {
     "data": {
      "image/png": "[encoded data removed]",
      "text/plain": [
       "<Figure size 432x288 with 1 Axes>"
      ]
     },
     "metadata": {
      "needs_background": "light"
     },
     "output_type": "display_data"
    },
    {
     "name": "stdout",
     "output_type": "stream",
     "text": [
      "\u001b[1m16/16\u001b[0m \u001b[32m━━━━━━━━━━━━━━━━━━━━\u001b[0m\u001b[37m\u001b[0m \u001b[1m1s\u001b[0m 27ms/step\n",
      "\u001b[1m16/16\u001b[0m \u001b[32m━━━━━━━━━━━━━━━━━━━━\u001b[0m\u001b[37m\u001b[0m \u001b[1m0s\u001b[0m 2ms/step \n",
      "Feedforward Neural Network Metrics:\n",
      "Accuracy: 0.917004048582996\n",
      "Precision: 1.0\n",
      "Recall: 0.046511627906976744\n",
      "F1 Score: 0.08888888888888889\n",
      "ROC AUC Score: 0.8217913680193885\n"
     ]
    },
    {
     "data": {
      "image/png": "[encoded data removed]",
      "text/plain": [
       "<Figure size 432x288 with 1 Axes>"
      ]
     },
     "metadata": {
      "needs_background": "light"
     },
     "output_type": "display_data"
    }
   ],
   "source": [
    "# Running models on MinMax Scaled data\n",
    "print(\"\\nMinMax Scaled Data:\")\n",
    "logistic_regression_model(X_train_minmax, y_train_minmax, X_test_minmax, y_test_minmax)\n",
    "fnn_model(X_train_minmax, y_train_minmax, X_test_minmax, y_test_minmax, input_dim=X_train_minmax.shape[1])"
   ]
  }
 ],
 "metadata": {
  "kernelspec": {
   "display_name": "Python 3",
   "language": "python",
   "name": "python3"
  },
  "language_info": {
   "codemirror_mode": {
    "name": "ipython",
    "version": 3
   },
   "file_extension": ".py",
   "mimetype": "text/x-python",
   "name": "python",
   "nbconvert_exporter": "python",
   "pygments_lexer": "ipython3",
   "version": "3.10.3"
  }
 },
 "nbformat": 4,
 "nbformat_minor": 2
}
